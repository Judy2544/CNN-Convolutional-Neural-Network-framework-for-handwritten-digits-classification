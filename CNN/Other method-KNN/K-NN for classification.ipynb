{
 "cells": [
  {
   "cell_type": "code",
   "execution_count": 14,
   "id": "bf1280a3",
   "metadata": {},
   "outputs": [],
   "source": [
    "import tensorflow.compat.v1 as tf\n",
    "tf.disable_v2_behavior()\n",
    "import numpy as np\n",
    "from tensorflow.examples.tutorials.mnist import input_data\n",
    "import matplotlib.pyplot as plt"
   ]
  },
  {
   "cell_type": "code",
   "execution_count": 15,
   "id": "591846cc",
   "metadata": {},
   "outputs": [
    {
     "name": "stdout",
     "output_type": "stream",
     "text": [
      "Extracting D:/MNIST_data\\train-images-idx3-ubyte.gz\n",
      "Extracting D:/MNIST_data\\train-labels-idx1-ubyte.gz\n",
      "Extracting D:/MNIST_data\\t10k-images-idx3-ubyte.gz\n",
      "Extracting D:/MNIST_data\\t10k-labels-idx1-ubyte.gz\n"
     ]
    }
   ],
   "source": [
    "#Load data, when one - hot is true, one array is 1 and the rest are 0\n",
    "mnist = input_data.read_data_sets('D:/MNIST_data', one_hot=True)"
   ]
  },
  {
   "cell_type": "code",
   "execution_count": 16,
   "id": "bfd3d551",
   "metadata": {},
   "outputs": [],
   "source": [
    "#Set properties\n",
    "trainNum = 55000 #Number of training samples\n",
    "testNum = 10000 #Number of testing samples\n",
    "trainSize = 2000 #Number of pictures used in training\n",
    "testSize = 1000 #Number of pictures used in testing\n",
    "k = 4  #Number of pictures close to the sample"
   ]
  },
  {
   "cell_type": "code",
   "execution_count": 17,
   "id": "c4f61b2d",
   "metadata": {},
   "outputs": [],
   "source": [
    "#Data decomposes random data and takes trainsize ranges. 0-trainnum replace = false indicates that it is not repeatable\n",
    "trainIndex = np.random.choice(trainNum, trainSize, replace=False) # Generate random numbers\n",
    "testIndex = np.random.choice(testNum, testSize, replace=False)\n",
    "trainData = mnist.train.images[trainIndex]  # Training pictures\n",
    "trainLabel = mnist.train.labels[trainIndex]  # Training labels\n",
    "testData = mnist.test.images[testIndex]  # Testing pictures\n",
    "testLabel = mnist.test.labels[testIndex]  # Testing labels\n",
    "\n",
    "# Use placeholder to load data\n",
    "trainDataInput = tf.placeholder(shape=[None, 784], dtype=tf.float32)\n",
    "trainLabelInput = tf.placeholder(shape=[None, 10], dtype=tf.float32)\n",
    "testDataInput = tf.placeholder(shape=[None, 784], dtype=tf.float32)\n",
    "testLabelInput = tf.placeholder(shape=[None, 10], dtype=tf.float32)\n"
   ]
  },
  {
   "cell_type": "code",
   "execution_count": 18,
   "id": "0dce246d",
   "metadata": {},
   "outputs": [],
   "source": [
    "#KNN distance\n",
    "#Dimension extension dimension transformation 5754 -- > 51784\n",
    "f1 = tf.expand_dims(testDataInput, 1)  \n",
    "f2 = tf.subtract(trainDataInput, f1)  \n",
    "f3 = tf.reduce_sum(tf.abs(f2), reduction_indices=2) \n",
    "f4 = tf.negative(f3)  \n",
    "f5, f6 = tf.nn.top_k(f4, k=k)  \n",
    "f7 = tf.gather(trainLabelInput, f6) \n",
    "f8 = tf.reduce_sum(f7, reduction_indices=1) \n",
    "f9 = tf.argmax(f8, dimension=1) "
   ]
  },
  {
   "cell_type": "code",
   "execution_count": 19,
   "id": "19391dc6",
   "metadata": {},
   "outputs": [
    {
     "name": "stdout",
     "output_type": "stream",
     "text": [
      "prediction value: [3 1 3 7 6 9 3 3 5 9 1 5 7 3 8 6 4 2 9 1 7 8 8 6 3 4 6 9 9 8 1 1 3 1 1 1 8\n",
      " 7 7 1 6 7 2 1 3 6 0 7 1 9 7 0 1 4 3 7 1 4 5 8 9 8 7 4 2 1 1 6 0 6 2 4 3 8\n",
      " 6 4 1 9 1 8 2 1 4 3 1 9 7 9 7 7 1 5 8 1 9 0 9 5 2 2 5 4 7 2 3 9 9 7 4 4 2\n",
      " 4 8 2 6 7 1 1 6 5 3 6 7 1 5 7 1 4 3 4 9 5 7 5 7 1 1 0 4 3 1 3 5 6 3 4 0 0\n",
      " 8 3 2 2 1 8 9 6 3 6 4 0 3 3 4 1 6 0 3 6 1 4 8 9 7 2 8 5 5 0 1 9 4 7 1 5 1\n",
      " 1 0 6 6 1 5 5 7 9 8 5 2 8 0 8 4 1 2 4 0 7 5 1 4 0 2 8 1 9 7 2 7 9 9 9 9 0\n",
      " 6 7 6 8 4 0 7 4 7 9 1 7 7 2 5 2 6 6 9 1 4 8 7 9 8 2 2 9 2 9 8 4 6 4 4 1 0\n",
      " 1 1 8 0 1 2 6 1 0 5 9 7 8 6 1 6 2 0 4 6 8 4 7 9 3 7 7 9 3 3 2 2 1 5 8 1 0\n",
      " 2 0 5 8 8 3 0 0 1 4 2 9 9 3 3 6 2 5 0 6 0 5 6 0 9 2 8 3 3 1 1 1 1 4 1 2 6\n",
      " 1 4 5 1 6 1 5 6 4 2 5 2 0 7 6 1 9 4 7 1 1 3 2 8 3 6 3 7 2 1 8 2 7 9 9 4 9\n",
      " 3 3 9 2 4 3 2 4 3 8 0 1 9 8 0 1 2 2 5 1 1 4 0 3 4 2 0 1 5 5 9 6 5 6 9 6 2\n",
      " 0 7 2 7 0 9 2 0 0 8 3 2 9 1 3 3 0 2 9 0 5 2 7 6 2 0 0 3 2 1 0 7 8 4 1 3 4\n",
      " 8 5 8 8 0 2 5 0 3 6 5 5 5 1 0 8 7 3 8 1 1 1 0 1 8 3 9 9 9 7 1 5 0 2 5 1 4\n",
      " 3 1 2 7 6 6 9 2 9 4 7 7 5 1 1 2 9 5 3 6 2 9 4 3 0 2 1 4 2 7 3 1 2 9 4 3 0\n",
      " 7 9 6 4 2 5 7 6 8 6 6 7 5 3 4 5 7 9 6 2 5 3 9 2 2 2 0 0 7 2 9 7 1 3 1 0 9\n",
      " 1 2 4 1 1 8 3 0 4 9 9 1 0 6 4 8 3 0 8 8 9 7 8 4 4 2 7 2 6 0 9 8 0 0 7 3 7\n",
      " 8 2 7 3 3 8 1 4 9 7 2 7 6 8 5 2 3 4 9 0 1 9 7 0 6 2 5 1 4 0 1 9 1 1 0 9 4\n",
      " 8 4 4 4 0 3 1 2 5 1 2 5 5 2 6 3 2 5 4 8 1 2 5 2 3 9 4 4 5 2 2 4 2 9 5 3 3\n",
      " 0 9 4 9 7 5 7 2 0 0 3 6 6 1 1 4 0 4 9 6 9 7 3 0 6 5 7 2 5 9 2 1 8 4 5 4 7\n",
      " 6 2 4 5 2 3 9 2 5 8 0 5 6 7 4 5 9 1 1 1 0 7 5 9 4 1 7 0 4 5 3 1 4 9 1 6 9\n",
      " 1 3 6 9 1 8 6 4 6 5 7 6 0 6 9 2 0 8 2 4 2 3 5 6 5 2 3 3 0 5 2 0 5 0 4 8 1\n",
      " 4 4 9 6 3 4 6 2 8 7 7 1 8 8 5 6 0 5 1 6 5 2 6 0 4 4 0 2 9 0 3 2 0 4 1 8 5\n",
      " 9 4 3 5 9 4 1 9 5 9 9 0 5 6 7 5 2 0 4 3 3 0 3 9 2 5 3 1 1 1 3 1 1 2 0 3 3\n",
      " 1 1 0 3 7 4 4 4 7 7 5 2 7 8 4 1 1 4 4 1 7 0 1 6 9 8 3 1 7 8 9 2 2 8 3 7 5\n",
      " 7 7 6 0 7 3 0 5 4 9 7 6 9 0 4 1 2 8 0 8 7 0 6 8 7 4 2 0 2 0 0 6 2 1 6 8 9\n",
      " 1 1 0 6 8 3 1 4 5 2 4 1 5 0 3 5 4 7 0 3 6 6 7 0 1 7 8 0 2 7 3 5 3 8 2 1 3\n",
      " 0 6 9 5 6 9 0 4 0 0 9 0 6 6 9 2 7 0 2 0 0 8 2 1 4 2 8 0 9 4 7 4 1 5 9 2 7\n",
      " 1]\n",
      "true value: [3 9 3 7 6 9 8 3 5 9 1 5 7 3 8 6 4 8 9 1 7 3 8 6 3 4 6 9 9 8 1 1 5 2 1 1 8\n",
      " 7 7 1 6 7 2 1 3 6 0 7 1 9 7 0 1 4 5 7 2 9 5 8 9 8 7 4 2 1 1 6 0 6 2 4 3 8\n",
      " 6 4 9 9 7 8 3 1 4 3 1 9 7 9 7 2 1 5 8 1 9 0 9 5 2 2 5 4 9 2 3 9 7 2 4 4 2\n",
      " 4 8 2 6 7 2 1 6 5 3 6 7 7 8 7 1 4 3 4 9 5 7 5 7 7 1 0 4 3 1 3 5 6 3 4 0 0\n",
      " 8 3 2 2 1 8 9 6 3 6 4 0 3 3 4 1 6 0 8 6 1 4 8 9 7 2 8 5 5 2 8 9 4 7 1 5 1\n",
      " 1 0 6 6 4 5 5 7 9 8 5 2 8 0 8 4 1 2 4 0 2 5 1 4 0 2 8 1 9 7 2 7 9 9 9 9 0\n",
      " 6 7 6 8 4 6 7 4 7 4 1 7 7 2 5 2 6 6 9 1 4 8 7 9 8 2 2 9 2 9 8 4 6 4 4 1 0\n",
      " 1 1 8 0 1 2 6 1 0 5 9 7 8 6 1 6 2 0 4 6 8 4 7 8 5 7 7 9 3 3 2 2 9 5 8 1 8\n",
      " 2 0 5 8 8 3 0 0 1 4 2 9 9 3 3 6 2 5 0 6 0 5 6 0 9 2 8 3 3 5 1 1 1 4 1 2 6\n",
      " 1 7 5 7 6 1 5 6 4 2 5 2 0 7 6 1 9 4 7 1 1 5 9 8 3 6 3 2 2 1 8 2 7 9 9 4 9\n",
      " 3 3 9 2 8 3 2 4 3 8 0 1 9 8 0 1 2 3 5 7 1 4 0 3 4 2 0 1 5 5 9 6 5 6 9 6 2\n",
      " 0 7 2 7 0 9 2 0 0 8 3 2 9 1 3 8 0 2 9 0 5 2 4 6 2 0 0 5 2 1 0 9 8 4 8 3 4\n",
      " 8 5 8 8 0 2 8 0 8 6 5 5 5 2 2 2 7 3 8 1 1 1 0 1 8 3 9 9 4 2 1 5 0 2 5 7 4\n",
      " 3 7 2 7 6 6 9 2 4 4 7 7 5 8 1 2 9 5 3 6 2 7 4 3 0 9 1 4 2 7 3 1 9 9 4 3 0\n",
      " 7 9 6 4 2 5 7 6 8 6 6 7 5 3 4 5 7 9 6 2 5 3 9 2 2 2 0 0 7 2 9 7 1 3 1 0 9\n",
      " 1 2 4 1 1 8 8 0 9 9 9 7 0 6 9 8 3 0 8 8 9 7 8 4 7 2 7 2 6 0 4 8 0 5 7 3 7\n",
      " 8 2 7 3 3 8 8 4 9 7 2 6 6 3 5 2 5 4 9 0 1 9 7 0 6 2 5 4 4 0 1 9 9 9 0 9 4\n",
      " 8 4 4 4 0 5 1 2 5 1 2 5 5 2 6 5 2 5 4 8 2 2 5 2 3 9 4 4 5 2 2 4 2 9 5 3 3\n",
      " 0 9 4 7 7 5 7 2 0 6 5 6 6 1 1 4 0 4 9 6 8 7 3 0 6 5 7 2 5 9 2 1 8 4 8 4 7\n",
      " 6 2 4 5 2 3 9 2 5 8 0 5 6 7 4 5 4 3 1 1 0 7 8 9 8 2 7 0 4 5 3 1 4 9 1 6 9\n",
      " 1 3 6 9 1 8 6 4 6 5 7 6 0 6 9 2 0 3 2 4 2 3 5 6 5 2 3 5 0 5 2 0 5 0 4 8 1\n",
      " 4 4 9 6 5 4 6 2 8 7 7 1 8 8 5 6 0 5 7 6 5 2 6 0 4 4 0 2 9 6 3 2 0 9 3 8 5\n",
      " 9 4 3 5 9 4 1 2 5 4 9 0 5 6 7 8 2 0 4 3 3 0 3 9 2 5 3 1 7 1 5 1 8 2 0 3 3\n",
      " 8 1 0 3 7 4 4 4 7 9 5 2 7 8 4 4 1 4 4 1 7 0 4 6 9 3 3 1 3 8 9 2 2 8 3 7 5\n",
      " 7 9 6 0 7 3 0 5 4 9 9 6 9 2 9 7 2 8 0 2 7 2 6 8 7 4 2 0 2 0 0 6 2 1 6 8 9\n",
      " 1 1 0 6 8 3 8 4 5 2 4 1 8 0 3 5 9 7 2 5 6 6 7 0 1 7 8 0 2 3 3 5 3 8 2 1 8\n",
      " 0 6 9 5 6 9 0 4 0 0 9 0 6 6 9 2 7 0 2 0 0 8 2 1 4 2 8 0 9 4 7 4 1 5 9 2 7\n",
      " 1]\n"
     ]
    }
   ],
   "source": [
    "#Detection probability statistics\n",
    "with tf.Session() as sess:\n",
    "    p9 = sess.run(f9, feed_dict={trainDataInput: trainData, testDataInput: testData, \n",
    "                                 trainLabelInput: trainLabel})\n",
    "    p10 = np.argmax(testLabel, axis=1)\n",
    "    print('prediction value:', p9)\n",
    "print('true value:', p10)"
   ]
  },
  {
   "cell_type": "code",
   "execution_count": 23,
   "id": "61e905d8",
   "metadata": {},
   "outputs": [
    {
     "name": "stdout",
     "output_type": "stream",
     "text": [
      "accuracy:93.2%\n"
     ]
    }
   ],
   "source": [
    "#print the final accuracy\n",
    "j = 0\n",
    "for i in range(0, testSize):\n",
    "    if p10[i] == p9[i]:\n",
    "        j += 1\n",
    "print('accuracy:'+ str(j*100/testSize)+\"%\")"
   ]
  },
  {
   "cell_type": "code",
   "execution_count": 21,
   "id": "4526e518",
   "metadata": {},
   "outputs": [
    {
     "data": {
      "image/png": "[encoded data removed]",
      "text/plain": [
       "<Figure size 720x468 with 15 Axes>"
      ]
     },
     "metadata": {},
     "output_type": "display_data"
    }
   ],
   "source": [
    "# Define visualization functions\n",
    "def plot_images_labels_prediction(images, labels, prediction, index, num=10): \n",
    "      fig = plt.gcf()   \n",
    "      fig.set_size_inches(10,6.5)  \n",
    "      if num > 15:\n",
    "            num = 15   \n",
    "      for i in range(0, num):\n",
    "            ax = plt.subplot(3, 5, i+1) \n",
    "\n",
    "            ax.imshow(np.reshape(images[index], (28, 28)), cmap='gray')  \n",
    "\n",
    "            title = \"label=\" + str(np.argmax(labels[index]))   \n",
    "            if len(prediction) > 0:\n",
    "                  title += \", predict=\" + str(prediction[index])\n",
    "\n",
    "            ax.set_title(title, fontsize=10)\n",
    "            ax.set_xticks([])  \n",
    "            ax.set_yticks([])\n",
    "            index += 1\n",
    "      plt.show()\n",
    "\n",
    "plot_images_labels_prediction(testData, testLabel, p9, 10, 25)"
   ]
  },
  {
   "cell_type": "code",
   "execution_count": null,
   "id": "85e3a84b",
   "metadata": {},
   "outputs": [],
   "source": []
  }
 ],
 "metadata": {
  "kernelspec": {
   "display_name": "Python 3",
   "language": "python",
   "name": "python3"
  },
  "language_info": {
   "codemirror_mode": {
    "name": "ipython",
    "version": 3
   },
   "file_extension": ".py",
   "mimetype": "text/x-python",
   "name": "python",
   "nbconvert_exporter": "python",
   "pygments_lexer": "ipython3",
   "version": "3.8.8"
  }
 },
 "nbformat": 4,
 "nbformat_minor": 5
}
